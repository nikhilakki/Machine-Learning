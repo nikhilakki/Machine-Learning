{
 "cells": [
  {
   "cell_type": "markdown",
   "metadata": {},
   "source": [
    "# IRIS dataset: ML: Classification 101"
   ]
  },
  {
   "cell_type": "code",
   "execution_count": 1,
   "metadata": {
    "collapsed": false
   },
   "outputs": [],
   "source": [
    "# import dataset\n",
    "from sklearn.datasets import load_iris\n",
    "# splitting the dataset \n",
    "from sklearn.cross_validation import train_test_split\n",
    "# pandas for data wrangling and visualization\n",
    "import pandas as pd, numpy as np"
   ]
  },
  {
   "cell_type": "code",
   "execution_count": 2,
   "metadata": {
    "collapsed": false
   },
   "outputs": [
    {
     "name": "stdout",
     "output_type": "stream",
     "text": [
      "       sepal length in cm  sepal width in cm  petal length in cm  \\\n",
      "count          150.000000         150.000000          150.000000   \n",
      "mean             5.843333           3.054000            3.758667   \n",
      "std              0.828066           0.433594            1.764420   \n",
      "min              4.300000           2.000000            1.000000   \n",
      "25%              5.100000           2.800000            1.600000   \n",
      "50%              5.800000           3.000000            4.350000   \n",
      "75%              6.400000           3.300000            5.100000   \n",
      "max              7.900000           4.400000            6.900000   \n",
      "\n",
      "       petal width in cm  \n",
      "count         150.000000  \n",
      "mean            1.198667  \n",
      "std             0.763161  \n",
      "min             0.100000  \n",
      "25%             0.300000  \n",
      "50%             1.300000  \n",
      "75%             1.800000  \n",
      "max             2.500000  \n",
      "((150, 4), (150, 1))\n"
     ]
    }
   ],
   "source": [
    "# loading data to pandas dataframe\n",
    "iris = load_iris()\n",
    "X_col = ['sepal length in cm','sepal width in cm','petal length in cm','petal width in cm']\n",
    "y_col = ['Prediction']\n",
    "X = pd.DataFrame(iris.data, columns=X_col)\n",
    "y = pd.DataFrame(iris.target, columns=y_col)\n",
    "print(X.describe())\n",
    "print(X.shape, y.shape)"
   ]
  },
  {
   "cell_type": "code",
   "execution_count": 3,
   "metadata": {
    "collapsed": false
   },
   "outputs": [
    {
     "name": "stdout",
     "output_type": "stream",
     "text": [
      "((120, 4), (30, 4), (120,), (30,))\n"
     ]
    }
   ],
   "source": [
    "# cross validation split \n",
    "X_train, X_test, y_train, y_test = train_test_split(X, y, test_size=0.2, random_state=2)\n",
    "y_train = np.ravel(y_train) # converting it to 1d vector array\n",
    "y_test = np.ravel(y_test) # converting it to 1d vector array\n",
    "print(X_train.shape, X_test.shape, y_train.shape, y_test.shape)"
   ]
  },
  {
   "cell_type": "code",
   "execution_count": 4,
   "metadata": {
    "collapsed": true
   },
   "outputs": [],
   "source": [
    "# calling various classifier algorithms\n",
    "from sklearn.tree import DecisionTreeClassifier\n",
    "from sklearn.linear_model import LogisticRegression\n",
    "from sklearn.naive_bayes import GaussianNB\n",
    "from sklearn.svm import SVC\n",
    "from sklearn.neighbors import KNeighborsClassifier\n",
    "from sklearn.ensemble import GradientBoostingClassifier"
   ]
  },
  {
   "cell_type": "markdown",
   "metadata": {},
   "source": [
    "## Running Multiple classifiers via for loop"
   ]
  },
  {
   "cell_type": "code",
   "execution_count": 5,
   "metadata": {
    "collapsed": false
   },
   "outputs": [
    {
     "name": "stdout",
     "output_type": "stream",
     "text": [
      "Accuracy of DecisionTreeClassifier(class_weight=None, criterion='gini', max_depth=10,\n",
      "            max_features=None, max_leaf_nodes=None, min_samples_leaf=1,\n",
      "            min_samples_split=2, min_weight_fraction_leaf=0.0,\n",
      "            presort=False, random_state=None, splitter='best') = 93.333333 %\n",
      "\n",
      "Accuracy of LogisticRegression(C=1.0, class_weight=None, dual=False, fit_intercept=True,\n",
      "          intercept_scaling=1, max_iter=100, multi_class='ovr', n_jobs=-1,\n",
      "          penalty='l2', random_state=None, solver='liblinear', tol=0.0001,\n",
      "          verbose=0, warm_start=False) = 93.333333 %\n",
      "\n",
      "Accuracy of SVC(C=1.0, cache_size=200, class_weight=None, coef0=0.0,\n",
      "  decision_function_shape=None, degree=3, gamma='auto', kernel='rbf',\n",
      "  max_iter=-1, probability=False, random_state=None, shrinking=True,\n",
      "  tol=0.001, verbose=False) = 96.666667 %\n",
      "\n",
      "Accuracy of GradientBoostingClassifier(init=None, learning_rate=1.0, loss='deviance',\n",
      "              max_depth=1, max_features=None, max_leaf_nodes=None,\n",
      "              min_samples_leaf=1, min_samples_split=2,\n",
      "              min_weight_fraction_leaf=0.0, n_estimators=100,\n",
      "              presort='auto', random_state=0, subsample=1.0, verbose=0,\n",
      "              warm_start=False) = 96.666667 %\n",
      "\n",
      "Accuracy of KNeighborsClassifier(algorithm='auto', leaf_size=30, metric='minkowski',\n",
      "           metric_params=None, n_jobs=-1, n_neighbors=5, p=2,\n",
      "           weights='uniform') = 100.000000 %\n",
      "\n",
      "Accuracy of GaussianNB() = 96.666667 %\n",
      "\n"
     ]
    }
   ],
   "source": [
    "clfs = [DecisionTreeClassifier(max_depth=10, min_samples_leaf=1),LogisticRegression(n_jobs=-1), \\\n",
    "        SVC(),GradientBoostingClassifier(n_estimators=100, learning_rate=1.0, max_depth=1, random_state=0), \\\n",
    "        KNeighborsClassifier(n_jobs=-1),GaussianNB()]\n",
    "for clf in clfs:\n",
    "    clf.fit(X_train, y_train)\n",
    "    accuracy = clf.score(X_test, y_test)*100\n",
    "    print('Accuracy of %r = %2f' % (clf,accuracy) + ' %\\n')"
   ]
  }
 ],
 "metadata": {
  "anaconda-cloud": {},
  "kernelspec": {
   "display_name": "Python 2",
   "language": "python",
   "name": "python2"
  },
  "language_info": {
   "codemirror_mode": {
    "name": "ipython",
    "version": 2
   },
   "file_extension": ".py",
   "mimetype": "text/x-python",
   "name": "python",
   "nbconvert_exporter": "python",
   "pygments_lexer": "ipython2",
   "version": "2.7.12"
  }
 },
 "nbformat": 4,
 "nbformat_minor": 1
}
