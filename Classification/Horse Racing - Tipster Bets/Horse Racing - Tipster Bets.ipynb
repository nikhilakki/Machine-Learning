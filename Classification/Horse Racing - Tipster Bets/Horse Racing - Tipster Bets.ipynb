{
 "cells": [
  {
   "cell_type": "markdown",
   "metadata": {},
   "source": [
    "# import library functions"
   ]
  },
  {
   "cell_type": "code",
   "execution_count": 1,
   "metadata": {
    "collapsed": false
   },
   "outputs": [],
   "source": [
    "import matplotlib.pyplot as plt, pandas as pd, numpy as np\n",
    "from sklearn.cross_validation import train_test_split\n",
    "from sklearn.preprocessing import LabelEncoder\n",
    "# import classification algorithms\n",
    "from sklearn.svm import SVC\n",
    "from sklearn.linear_model import LogisticRegression\n",
    "from sklearn.tree import DecisionTreeClassifier\n",
    "from sklearn.naive_bayes import GaussianNB\n",
    "from sklearn.neighbors import KNeighborsClassifier\n",
    "%matplotlib inline"
   ]
  },
  {
   "cell_type": "code",
   "execution_count": 2,
   "metadata": {
    "collapsed": false
   },
   "outputs": [
    {
     "name": "stdout",
     "output_type": "stream",
     "text": [
      "     ID    Tipster        Date      Track              Horse Bet Type  Odds  \\\n",
      "UID                                                                           \n",
      "1     1  Tipster A  24/07/2015      Ascot          Fredricka      Win  8.00   \n",
      "2     2  Tipster A  24/07/2015     Thirsk      Spend A Penny      Win  4.50   \n",
      "3     3  Tipster A  24/07/2015       York  Straightothepoint      Win  7.00   \n",
      "4     4  Tipster A  24/07/2015  Newmarket     Miss Inga Sock      Win  5.00   \n",
      "5     5  Tipster A  25/07/2015      Ascot              Peril      Win  4.33   \n",
      "\n",
      "    Result TipsterActive  \n",
      "UID                       \n",
      "1     Lose          True  \n",
      "2     Lose          True  \n",
      "3     Lose          True  \n",
      "4     Lose          True  \n",
      "5      Win          True  \n"
     ]
    }
   ],
   "source": [
    "df = pd.read_csv('tips.csv',index_col='UID')\n",
    "print(df.head())"
   ]
  },
  {
   "cell_type": "markdown",
   "metadata": {},
   "source": [
    "# Data wrangling"
   ]
  },
  {
   "cell_type": "markdown",
   "metadata": {},
   "source": [
    "## Univariate analysis "
   ]
  },
  {
   "cell_type": "code",
   "execution_count": 3,
   "metadata": {
    "collapsed": false
   },
   "outputs": [
    {
     "name": "stdout",
     "output_type": "stream",
     "text": [
      "ID                 int64\n",
      "Tipster           object\n",
      "Date              object\n",
      "Track             object\n",
      "Horse             object\n",
      "Bet Type          object\n",
      "Odds             float64\n",
      "Result            object\n",
      "TipsterActive       bool\n",
      "dtype: object\n"
     ]
    }
   ],
   "source": [
    "print(df.dtypes)"
   ]
  },
  {
   "cell_type": "code",
   "execution_count": 4,
   "metadata": {
    "collapsed": false
   },
   "outputs": [
    {
     "name": "stdout",
     "output_type": "stream",
     "text": [
      "Index([u'Tipster', u'Date', u'Track', u'Horse', u'Bet Type', u'Result'], dtype='object')\n"
     ]
    }
   ],
   "source": [
    "# collecting categorical varibale names \n",
    "cat_var = df.dtypes.loc[df.dtypes=='object'].index\n",
    "print(cat_var)"
   ]
  },
  {
   "cell_type": "code",
   "execution_count": 5,
   "metadata": {
    "collapsed": false
   },
   "outputs": [
    {
     "data": {
      "text/plain": [
       "Tipster        31\n",
       "Date         1055\n",
       "Track         116\n",
       "Horse       15785\n",
       "Bet Type        2\n",
       "Result          2\n",
       "dtype: int64"
      ]
     },
     "execution_count": 5,
     "metadata": {},
     "output_type": "execute_result"
    }
   ],
   "source": [
    "# check for unique variables in cat_var\n",
    "df[cat_var].apply(lambda x: len(x.unique()))"
   ]
  },
  {
   "cell_type": "code",
   "execution_count": 6,
   "metadata": {
    "collapsed": false
   },
   "outputs": [
    {
     "name": "stdout",
     "output_type": "stream",
     "text": [
      "Win         30418\n",
      "Each Way     7830\n",
      "Name: Bet Type, dtype: int64\n",
      "~~~~~~~~~~~~~~~~~~~~~~~~~~~~~~\n",
      "Win         79.528341\n",
      "Each Way    20.471659\n",
      "Name: Bet Type, dtype: float64\n"
     ]
    }
   ],
   "source": [
    "print(df['Bet Type'].value_counts())\n",
    "print('~'*30)\n",
    "print(df['Bet Type'].value_counts()/df['Bet Type'].shape[0]*100)"
   ]
  },
  {
   "cell_type": "code",
   "execution_count": 7,
   "metadata": {
    "collapsed": false
   },
   "outputs": [
    {
     "name": "stdout",
     "output_type": "stream",
     "text": [
      "Lose    30565\n",
      "Win      7683\n",
      "Name: Result, dtype: int64\n",
      "~~~~~~~~~~~~~~~~~~~~~~~~~~~~~~\n",
      "Lose    79.912675\n",
      "Win     20.087325\n",
      "Name: Result, dtype: float64\n"
     ]
    }
   ],
   "source": [
    "# Lose vs Win ratio\n",
    "print(df['Result'].value_counts())\n",
    "print('~'*30)\n",
    "print(df['Result'].value_counts()/df.Result.shape[0]*100)"
   ]
  },
  {
   "cell_type": "code",
   "execution_count": 8,
   "metadata": {
    "collapsed": false
   },
   "outputs": [
    {
     "name": "stdout",
     "output_type": "stream",
     "text": [
      "True     65.849195\n",
      "False    34.150805\n",
      "Name: TipsterActive, dtype: float64\n"
     ]
    }
   ],
   "source": [
    "# Tipster active vs unactive\n",
    "print(df.TipsterActive.value_counts()/df.TipsterActive.shape[0]*100)"
   ]
  },
  {
   "cell_type": "code",
   "execution_count": 9,
   "metadata": {
    "collapsed": false
   },
   "outputs": [
    {
     "name": "stdout",
     "output_type": "stream",
     "text": [
      "count    38248.000000\n",
      "mean        10.994968\n",
      "std         11.004589\n",
      "min          1.070000\n",
      "25%          5.000000\n",
      "50%          8.000000\n",
      "75%         13.000000\n",
      "max        407.000000\n",
      "Name: Odds, dtype: float64\n"
     ]
    }
   ],
   "source": [
    "print(df.Odds.describe())"
   ]
  },
  {
   "cell_type": "markdown",
   "metadata": {},
   "source": [
    "## Multivirate Analysis"
   ]
  },
  {
   "cell_type": "code",
   "execution_count": 10,
   "metadata": {
    "collapsed": false
   },
   "outputs": [
    {
     "data": {
      "text/plain": [
       "<matplotlib.axes._subplots.AxesSubplot at 0x7f904177ea50>"
      ]
     },
     "execution_count": 10,
     "metadata": {},
     "output_type": "execute_result"
    },
    {
     "data": {
      "image/png": "[encoded data removed]",
      "text/plain": [
       "<matplotlib.figure.Figure at 0x7f9041990790>"
      ]
     },
     "metadata": {},
     "output_type": "display_data"
    }
   ],
   "source": [
    "# Tipster's performance\n",
    "cross_tab = pd.crosstab(df['Tipster'], df['Result'], margins=True)\n",
    "cross_tab.iloc[:-1,:-1].plot(kind='bar', stacked=True, color=['red', 'blue'], grid=False)"
   ]
  },
  {
   "cell_type": "code",
   "execution_count": 11,
   "metadata": {
    "collapsed": false
   },
   "outputs": [
    {
     "data": {
      "text/plain": [
       "<matplotlib.axes._subplots.AxesSubplot at 0x7f903f20fb90>"
      ]
     },
     "execution_count": 11,
     "metadata": {},
     "output_type": "execute_result"
    },
    {
     "data": {
      "image/png": "[encoded data removed]",
      "text/plain": [
       "<matplotlib.figure.Figure at 0x7f903f261610>"
      ]
     },
     "metadata": {},
     "output_type": "display_data"
    }
   ],
   "source": [
    "# percentage conversion\n",
    "def perConvert(ser):\n",
    "    return ser/float(ser[-1])\n",
    "cross_tab1 = cross_tab.apply(perConvert, axis=1)\n",
    "cross_tab1.iloc[:-1,:-1].plot(kind='bar', stacked=True, color=['red', 'blue'], grid=False)"
   ]
  },
  {
   "cell_type": "code",
   "execution_count": 12,
   "metadata": {
    "collapsed": false
   },
   "outputs": [
    {
     "data": {
      "text/plain": [
       "<matplotlib.axes._subplots.AxesSubplot at 0x7f903f1a7150>"
      ]
     },
     "execution_count": 12,
     "metadata": {},
     "output_type": "execute_result"
    },
    {
     "data": {
      "image/png": "[encoded data removed]",
      "text/plain": [
       "<matplotlib.figure.Figure at 0x7f9041a7df90>"
      ]
     },
     "metadata": {},
     "output_type": "display_data"
    }
   ],
   "source": [
    "# checking for outliers in continous data\n",
    "df.plot.scatter('ID', 'Odds')"
   ]
  },
  {
   "cell_type": "markdown",
   "metadata": {
    "collapsed": true
   },
   "source": [
    "## Checking for missing values"
   ]
  },
  {
   "cell_type": "code",
   "execution_count": 13,
   "metadata": {
    "collapsed": false
   },
   "outputs": [
    {
     "data": {
      "text/plain": [
       "ID               0\n",
       "Tipster          0\n",
       "Date             0\n",
       "Track            0\n",
       "Horse            0\n",
       "Bet Type         0\n",
       "Odds             0\n",
       "Result           0\n",
       "TipsterActive    0\n",
       "dtype: int64"
      ]
     },
     "execution_count": 13,
     "metadata": {},
     "output_type": "execute_result"
    }
   ],
   "source": [
    "df.apply(lambda x: sum(x.isnull()))\n",
    "# dataset looks clear of any null values, good here!"
   ]
  },
  {
   "cell_type": "code",
   "execution_count": 14,
   "metadata": {
    "collapsed": false
   },
   "outputs": [],
   "source": [
    "# since we cannot plug categorical values we need to convert it to numerical values \n",
    "# this is taken care by the LabelEncoder() function from sklearm.preprocessing\n",
    "le = LabelEncoder()\n",
    "for var in cat_var:\n",
    "    df[var] = le.fit_transform(df[var])"
   ]
  },
  {
   "cell_type": "code",
   "execution_count": 15,
   "metadata": {
    "collapsed": false
   },
   "outputs": [
    {
     "name": "stdout",
     "output_type": "stream",
     "text": [
      "Index([u'Tipster', u'Date', u'Track', u'Horse', u'Bet Type', u'Result'], dtype='object')\n",
      "     ID  Tipster  Date  Track  Horse  Bet Type  Odds  Result TipsterActive\n",
      "UID                                                                       \n",
      "1     1        0   818      2   5157         1  8.00       0          True\n",
      "2     2        0   818     96  13103         1  4.50       0          True\n",
      "3     3        0   818    114  13406         1  7.00       0          True\n",
      "4     4        0   818     74   8974         1  5.00       0          True\n",
      "5     5        0   851      2  10550         1  4.33       1          True\n"
     ]
    }
   ],
   "source": [
    "print(cat_var)\n",
    "print(df.head())"
   ]
  },
  {
   "cell_type": "markdown",
   "metadata": {},
   "source": [
    "## Creating X and y arrays for further processing"
   ]
  },
  {
   "cell_type": "code",
   "execution_count": 16,
   "metadata": {
    "collapsed": false
   },
   "outputs": [
    {
     "name": "stdout",
     "output_type": "stream",
     "text": [
      "((20, 5), (20,))\n",
      "((38228, 5), (38228,))\n",
      "     Tipster  Track  Horse  Bet Type  Odds\n",
      "UID                                       \n",
      "1          0      2   5157         1  8.00\n",
      "2          0     96  13103         1  4.50\n",
      "3          0    114  13406         1  7.00\n",
      "4          0     74   8974         1  5.00\n",
      "5          0      2  10550         1  4.33\n"
     ]
    }
   ],
   "source": [
    "# creating a seperate prediction set for post cross validation\n",
    "df_X_test = df.iloc[-20:,:-2] \n",
    "df_y_test = df.iloc[-20:,-2:-1]\n",
    "df_X_test = df_X_test[['Tipster', 'Track', 'Horse', 'Bet Type', 'Odds']]\n",
    "df_y_test = df_y_test['Result'] \n",
    "\n",
    "print(df_X_test.shape, df_y_test.shape)\n",
    "# allocating data for cross validation train test split\n",
    "df_train = df.iloc[:-20]\n",
    "X = df_train[['Tipster', 'Track', 'Horse', 'Bet Type', 'Odds']]\n",
    "# I choose to leave out column 'TipsterActive' (Bool variable)\n",
    "y = df_train.Result.values\n",
    "print(X.shape, y.shape)\n",
    "print(X.head())"
   ]
  },
  {
   "cell_type": "markdown",
   "metadata": {},
   "source": [
    "### Data is split into training and test sets"
   ]
  },
  {
   "cell_type": "code",
   "execution_count": 17,
   "metadata": {
    "collapsed": false
   },
   "outputs": [
    {
     "name": "stdout",
     "output_type": "stream",
     "text": [
      "((30582, 5), (7646, 5), (30582,), (7646,))\n"
     ]
    }
   ],
   "source": [
    "X_train, X_test, y_train, y_test = train_test_split(X, y, test_size=0.2, random_state=2)\n",
    "print(X_train.shape, X_test.shape, y_train.shape, y_test.shape)"
   ]
  },
  {
   "cell_type": "code",
   "execution_count": 18,
   "metadata": {
    "collapsed": false
   },
   "outputs": [
    {
     "name": "stdout",
     "output_type": "stream",
     "text": [
      "Accuracy of GaussianNB() Classifier = 79.178656 %\n",
      "\n",
      "\n",
      "Accuracy of LogisticRegression(C=1.0, class_weight=None, dual=False, fit_intercept=True,\n",
      "          intercept_scaling=1, max_iter=100, multi_class='ovr', n_jobs=-1,\n",
      "          penalty='l2', random_state=None, solver='liblinear', tol=0.0001,\n",
      "          verbose=0, warm_start=False) Classifier = 79.178656 %\n",
      "\n",
      "\n",
      "Accuracy of DecisionTreeClassifier(class_weight=None, criterion='gini', max_depth=None,\n",
      "            max_features=None, max_leaf_nodes=None, min_samples_leaf=5,\n",
      "            min_samples_split=17, min_weight_fraction_leaf=0.0,\n",
      "            presort=False, random_state=1, splitter='best') Classifier = 74.496469 %\n",
      "\n",
      "\n",
      "Accuracy of KNeighborsClassifier(algorithm='auto', leaf_size=50, metric='minkowski',\n",
      "           metric_params=None, n_jobs=1, n_neighbors=5, p=3,\n",
      "           weights='uniform') Classifier = 76.170547 %\n",
      "\n",
      "\n"
     ]
    }
   ],
   "source": [
    "# list of classifiers\n",
    "classifers = [GaussianNB(), LogisticRegression(n_jobs=-1), DecisionTreeClassifier(min_samples_leaf=5,min_samples_split=17,random_state=1), KNeighborsClassifier(n_neighbors=5, leaf_size=50, p=3)]\n",
    "for cl in classifers:\n",
    "    clf = cl\n",
    "    clf.fit(X_train, y_train)\n",
    "    accuracy = clf.score(X_test, y_test)*100\n",
    "    print('Accuracy of %r Classifier = %2f' % (cl, accuracy) + ' %')\n",
    "    print('\\n')\n",
    "           "
   ]
  }
 ],
 "metadata": {
  "anaconda-cloud": {},
  "kernelspec": {
   "display_name": "Python 2",
   "language": "python",
   "name": "python2"
  },
  "language_info": {
   "codemirror_mode": {
    "name": "ipython",
    "version": 2
   },
   "file_extension": ".py",
   "mimetype": "text/x-python",
   "name": "python",
   "nbconvert_exporter": "python",
   "pygments_lexer": "ipython2",
   "version": "2.7.12"
  }
 },
 "nbformat": 4,
 "nbformat_minor": 1
}
